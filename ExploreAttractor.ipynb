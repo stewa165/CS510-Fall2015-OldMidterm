{
 "cells": [
  {
   "cell_type": "code",
   "execution_count": 1,
   "metadata": {
    "collapsed": false
   },
   "outputs": [
    {
     "ename": "SyntaxError",
     "evalue": "invalid syntax (attractor.py, line 30)",
     "output_type": "error",
     "traceback": [
      "\u001b[1;36m  File \u001b[1;32m\"attractor.py\"\u001b[1;36m, line \u001b[1;32m30\u001b[0m\n\u001b[1;33m    dy2 = (x*(self.p-z)-y)*(self.dt+new_inc)+(k1*new_inc)\u001b[0m\n\u001b[1;37m      ^\u001b[0m\n\u001b[1;31mSyntaxError\u001b[0m\u001b[1;31m:\u001b[0m invalid syntax\n"
     ]
    }
   ],
   "source": [
    "import attractor.py"
   ]
  },
  {
   "cell_type": "markdown",
   "metadata": {},
   "source": [
    "#### 1.  How does the plotted solution depend on your choice of time step size, and your choice of increment? Do you see an improvement in precision from using the higher-order integration methods?"
   ]
  },
  {
   "cell_type": "markdown",
   "metadata": {},
   "source": [
    "##### The accuracy of the plotted solution is directly effected by the step size; when we decrease the step size, we increase the amount of points that are evaluated, thus giving us a more accurate estimation of the solution.  Using higher-order integration methods improves the results, giving us a more accurate estimation.  The euler method will give us the least accurate estimation, followed by the 2nd order Runge-Kutta, and so on.  In this particular project, the 4th order Runge-Kutta will give us the most accurate prediction."
   ]
  },
  {
   "cell_type": "markdown",
   "metadata": {},
   "source": [
    "#### 2.  How does the solution depend upon the initial conditions [x0, y0, z0]? How small a change can you make while still reproducing roughly the same dynamical curves?"
   ]
  },
  {
   "cell_type": "markdown",
   "metadata": {},
   "source": [
    "##### Depending on what the initial conditions are, the amount of time to reach the real solutions will vary.  Say, for instance, the initial conditions are close to the real value, then the amount of time to reach the real value will be small.  Contrary to this, if the initial conditions put us at a value farther than the real value, then the amount of time to reach that real value will be greater.   Due to my project not working correctly, I am not sure how small of a change will reproduce roughly the same curve."
   ]
  },
  {
   "cell_type": "code",
   "execution_count": null,
   "metadata": {
    "collapsed": true
   },
   "outputs": [],
   "source": []
  }
 ],
 "metadata": {
  "kernelspec": {
   "display_name": "Python 2",
   "language": "python",
   "name": "python2"
  },
  "language_info": {
   "codemirror_mode": {
    "name": "ipython",
    "version": 2
   },
   "file_extension": ".py",
   "mimetype": "text/x-python",
   "name": "python",
   "nbconvert_exporter": "python",
   "pygments_lexer": "ipython2",
   "version": "2.7.9"
  },
  "name": "ExploreAttractor.ipynb"
 },
 "nbformat": 4,
 "nbformat_minor": 0
}
