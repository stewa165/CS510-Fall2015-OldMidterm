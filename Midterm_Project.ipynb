{
 "cells": [
  {
   "cell_type": "code",
   "execution_count": 1,
   "metadata": {
    "collapsed": false
   },
   "outputs": [
    {
     "ename": "SyntaxError",
     "evalue": "invalid syntax (<ipython-input-1-d0b5f9fa6ddb>, line 30)",
     "output_type": "error",
     "traceback": [
      "\u001b[1;36m  File \u001b[1;32m\"<ipython-input-1-d0b5f9fa6ddb>\"\u001b[1;36m, line \u001b[1;32m30\u001b[0m\n\u001b[1;33m    dy2 = (x*(self.p-z)-y)*(self.dt+new_inc)+(k1*new_inc)\u001b[0m\n\u001b[1;37m      ^\u001b[0m\n\u001b[1;31mSyntaxError\u001b[0m\u001b[1;31m:\u001b[0m invalid syntax\n"
     ]
    }
   ],
   "source": [
    "import numpy as np\n",
    "import pandas as pd\n",
    "import matplotlib.pyplot as plt\n",
    "from mpl_toolkits.mplot3d import Axes3D\n",
    "\n",
    "class Attractor(object):\n",
    "    def __init__(self, s=10, b=(8/3), p=28, start=0.0, end=80.0, points=10000):\n",
    "        self.s = s\n",
    "        self.b = b\n",
    "        self.p = p\n",
    "        self.start = start\n",
    "        self.end = end\n",
    "        self.points = points\n",
    "        self.params = np.array(self.s, self.b, self.p)\n",
    "        self.dt = (self.end - self.start)/self.points\n",
    "        \n",
    "    def euler(self, a):\n",
    "        a = np.array([x,y,z])\n",
    "        dx1 = self.s*(y-x)*self.dt\n",
    "        dy1 = (x*(self.p-z)-y)*self.dt\n",
    "        dz1 = (x*y-self.b*z)*self.dt\n",
    "        return np.array([dx1,dy1,dz1])\n",
    "    \n",
    "    def rk2(self, a):\n",
    "        a = np.array([x,y,z])\n",
    "        new_inc = self.dt/2\n",
    "        k1 = self.euler(a)\n",
    "        \n",
    "        dx2 = (self.s*(y-x)*(self.dt+new_inc)+(k1*new_inc)\n",
    "        dy2 = (x*(self.p-z)-y)*(self.dt+new_inc)+(k1*new_inc)\n",
    "        dz2 = (x*y-self.b*z)*(self.d+new_inc)+(k1*new_inc)\n",
    "        return np.array([dx2,dy2,dz2])\n",
    "              \n",
    "    def rk3(self, a):\n",
    "        a = np.array([x,y,z])\n",
    "        new_inc = self.dt/2\n",
    "        k2 = self.rk2(a)\n",
    "        \n",
    "        dx3 = (self.s*(y-x)*(self.dt+new_inc)+(k2*new_inc)\n",
    "        dy3 = (x*(self.p-z)-y)*(self.dt+new_inc)+(k2*new_inc)\n",
    "        dz3 = (x*y-self.b*z)*(self.d+new_inc)+(k2*new_inc)\n",
    "        return np.array([dx3,dy3,dz3])\n",
    "    \n",
    "    def rk4(self, a):\n",
    "        a = np.array([x,y,z])\n",
    "        new_inc = self.dt\n",
    "        k3 = self.rk3(a)\n",
    "        \n",
    "        dx4 = (self.s*(y-x)*(self.dt+new_inc)+(k3*new_inc)\n",
    "        dy4 = (x*(self.p-z)-y)*(self.dt+new_inc)+(k3*new_inc)\n",
    "        dz4 = (x*y-self.b*z)*(self.d+new_inc)+(k3*new_inc)\n",
    "        return np.array([dx4,dy4,dz4])\n",
    "    \n",
    "    def evolve(self, r0 = np.array([0.1,0.0,0.0]), order = 4):\n",
    "        self.dt = 0\n",
    "        if order == 1:\n",
    "            result = euler(r0)\n",
    "        elif order == 2:\n",
    "            result = rk2(r0)\n",
    "        elif order == 4:\n",
    "            result = rk4(r0)\n",
    "               \n",
    "        #\n",
    "        #\n",
    "        #result = \n",
    "        df = pd.DataFrame(result)\n",
    "        df.columns = [\"t\",\"x\",\"y\",\"z\"]\n",
    "        self.solution = df\n",
    "        return df\n",
    "               \n",
    "    def save(self):\n",
    "        self.solution.to_csv(\"out.csv\")\n",
    "               \n",
    "    def plotxy(self):\n",
    "        plt.plot(self.solution[\"t\"], self.solution[\"x\"], \"r\")\n",
    "        plt.plot(self.solution[\"t\"], self.solution[\"y\"], \"b\")\n",
    "        plt.show()    \n",
    "               \n",
    "    def plotyz(self):\n",
    "        plt.plot(self.solution[\"t\"], self.solution[\"y\"], \"r\")\n",
    "        plt.plot(self.solution[\"t\"], self.solution[\"z\"], \"b\")\n",
    "        plt.show()       \n",
    "\n",
    "    def plotzx(self):       \n",
    "        plt.plot(self.solution[\"t\"], self.solution[\"z\"], \"r\")\n",
    "        plt.plot(self.solution[\"t\"], self.solution[\"x\"], \"b\")\n",
    "        plt.show()    \n",
    "    \n",
    "    def plot3d(self):\n",
    "        fig = plt.figure()\n",
    "        ax = fig.add_subplot(111, projection='3d')\n",
    "        plt.show()"
   ]
  },
  {
   "cell_type": "code",
   "execution_count": null,
   "metadata": {
    "collapsed": true
   },
   "outputs": [],
   "source": []
  },
  {
   "cell_type": "code",
   "execution_count": null,
   "metadata": {
    "collapsed": true
   },
   "outputs": [],
   "source": []
  },
  {
   "cell_type": "code",
   "execution_count": null,
   "metadata": {
    "collapsed": true
   },
   "outputs": [],
   "source": []
  }
 ],
 "metadata": {
  "kernelspec": {
   "display_name": "Python 2",
   "language": "python",
   "name": "python2"
  },
  "language_info": {
   "codemirror_mode": {
    "name": "ipython",
    "version": 2
   },
   "file_extension": ".py",
   "mimetype": "text/x-python",
   "name": "python",
   "nbconvert_exporter": "python",
   "pygments_lexer": "ipython2",
   "version": "2.7.9"
  },
  "name": "Midterm Project.ipynb"
 },
 "nbformat": 4,
 "nbformat_minor": 0
}
